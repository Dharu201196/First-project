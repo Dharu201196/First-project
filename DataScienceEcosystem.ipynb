{
 "cells": [
  {
   "cell_type": "markdown",
   "id": "19c7479f-3170-4470-a629-ffd145b9c40b",
   "metadata": {},
   "source": [
    "# Data Science Tools and Ecosystem"
   ]
  },
  {
   "cell_type": "markdown",
   "id": "9bf05521-8361-4574-9eaa-ad957b7273f3",
   "metadata": {},
   "source": [
    "In this notebook, Data Science Tools and Ecosystem are summarized."
   ]
  },
  {
   "cell_type": "markdown",
   "id": "c986f449-515f-4077-90f1-f74f71671e04",
   "metadata": {},
   "source": [
    "**Objectives:**\n",
    "* List popular languages for Data Science\n",
    "* List Commonly used libraries used by Data scientists\n",
    "* Data Science Tools\n",
    "* Arithmetic expressions in Python"
   ]
  },
  {
   "cell_type": "markdown",
   "id": "bfb8862d-b99a-4073-a360-37596b892c98",
   "metadata": {},
   "source": [
    "Some of the popular languages that Data Scientists use are:\n",
    "1. Python\n",
    "2. R\n",
    "3. SQL\n",
    "4. Scala\n",
    "5. Java\n",
    "6. C++\n",
    "7. Julia"
   ]
  },
  {
   "cell_type": "markdown",
   "id": "de800a08-4bfa-4721-b7b0-ad7167dc5f86",
   "metadata": {},
   "source": [
    "Some of the commonly used libraries used by Data Scientists include:\n",
    "1. Pandas\n",
    "2. NumPy\n",
    "3. Matplotlib\n",
    "4. Seaborn\n",
    "5. Scikit-learn"
   ]
  },
  {
   "cell_type": "markdown",
   "id": "f610dec0-2dd1-4e24-b018-ce56ab896736",
   "metadata": {},
   "source": [
    "|Data Science Tools|\n",
    "|--------------------|\n",
    "|Jupyter Notebook|\n",
    "|Rstudio|\n",
    "|Spyder|"
   ]
  },
  {
   "cell_type": "markdown",
   "id": "d1791e33-0075-4614-8abb-7b7becbbe414",
   "metadata": {},
   "source": [
    "### Below are a few examples of evaluating arithmetic expressions in Python"
   ]
  },
  {
   "cell_type": "code",
   "execution_count": 1,
   "id": "6151045a-b773-45e3-826a-ae2000ae4c70",
   "metadata": {},
   "outputs": [
    {
     "data": {
      "text/plain": [
       "17"
      ]
     },
     "execution_count": 1,
     "metadata": {},
     "output_type": "execute_result"
    }
   ],
   "source": [
    "#This a simple arithmetic expression to mutiply then add integers\n",
    "(3*4)+5"
   ]
  },
  {
   "cell_type": "code",
   "execution_count": 17,
   "id": "26e2f20e-c598-4d08-af32-7e154d4f3b05",
   "metadata": {},
   "outputs": [
    {
     "name": "stdout",
     "output_type": "stream",
     "text": [
      "3 hours 20 minutes\n"
     ]
    }
   ],
   "source": [
    "#This will convert 200 minutes to hours by diving by 60\n",
    "minutes = 200%60\n",
    "hours = 200//60\n",
    "print (hours,\"hours\", minutes,\"minutes\")"
   ]
  },
  {
   "cell_type": "markdown",
   "id": "adf19d4a-b393-4c00-a0f1-150ff92ab1fb",
   "metadata": {},
   "source": [
    "## Author\n",
    "Dharani M"
   ]
  },
  {
   "cell_type": "code",
   "execution_count": null,
   "id": "c33f6b8b-0e00-4ad0-8026-0f72ef6a4496",
   "metadata": {},
   "outputs": [],
   "source": []
  }
 ],
 "metadata": {
  "kernelspec": {
   "display_name": "Python 3 (ipykernel)",
   "language": "python",
   "name": "python3"
  },
  "language_info": {
   "codemirror_mode": {
    "name": "ipython",
    "version": 3
   },
   "file_extension": ".py",
   "mimetype": "text/x-python",
   "name": "python",
   "nbconvert_exporter": "python",
   "pygments_lexer": "ipython3",
   "version": "3.12.4"
  }
 },
 "nbformat": 4,
 "nbformat_minor": 5
}
